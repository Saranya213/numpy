{
  "nbformat": 4,
  "nbformat_minor": 0,
  "metadata": {
    "colab": {
      "name": "numpy.ipynb",
      "provenance": [],
      "collapsed_sections": [],
      "authorship_tag": "ABX9TyMoxsoZfVWvqQ/FBUzgJ04i",
      "include_colab_link": true
    },
    "kernelspec": {
      "name": "python3",
      "display_name": "Python 3"
    },
    "language_info": {
      "name": "python"
    }
  },
  "cells": [
    {
      "cell_type": "markdown",
      "metadata": {
        "id": "view-in-github",
        "colab_type": "text"
      },
      "source": [
        "<a href=\"https://colab.research.google.com/github/Saranya213/numpy/blob/main/numpy.ipynb\" target=\"_parent\"><img src=\"https://colab.research.google.com/assets/colab-badge.svg\" alt=\"Open In Colab\"/></a>"
      ]
    },
    {
      "cell_type": "code",
      "metadata": {
        "id": "8AvYVO5kK-yd"
      },
      "source": [
        "import numpy as np"
      ],
      "execution_count": 10,
      "outputs": []
    },
    {
      "cell_type": "code",
      "metadata": {
        "colab": {
          "base_uri": "https://localhost:8080/"
        },
        "id": "aS7UxJw1ThK9",
        "outputId": "563337c1-ce65-4fe2-d04d-533a14fa2b2b"
      },
      "source": [
        "myPythonList = [1,9,8,3]\n",
        "print(myPythonList)"
      ],
      "execution_count": 11,
      "outputs": [
        {
          "output_type": "stream",
          "text": [
            "[1, 9, 8, 3]\n"
          ],
          "name": "stdout"
        }
      ]
    },
    {
      "cell_type": "code",
      "metadata": {
        "colab": {
          "base_uri": "https://localhost:8080/"
        },
        "id": "t6aFqafCTnuG",
        "outputId": "dbca74fd-4e2f-47ed-8b7f-719d0cee65c6"
      },
      "source": [
        "numpy_array_from_list = np.array(myPythonList)\n",
        "numpy_array_from_list"
      ],
      "execution_count": 12,
      "outputs": [
        {
          "output_type": "execute_result",
          "data": {
            "text/plain": [
              "array([1, 9, 8, 3])"
            ]
          },
          "metadata": {
            "tags": []
          },
          "execution_count": 12
        }
      ]
    },
    {
      "cell_type": "code",
      "metadata": {
        "colab": {
          "base_uri": "https://localhost:8080/"
        },
        "id": "zr4AWxDJTsF6",
        "outputId": "c7013001-b4a6-415d-b955-75f2aa5cab6b"
      },
      "source": [
        "a  = np.array([1,9,8,3])\n",
        "print(a)"
      ],
      "execution_count": 13,
      "outputs": [
        {
          "output_type": "stream",
          "text": [
            "[1 9 8 3]\n"
          ],
          "name": "stdout"
        }
      ]
    },
    {
      "cell_type": "code",
      "metadata": {
        "colab": {
          "base_uri": "https://localhost:8080/"
        },
        "id": "93Br6aIITw1P",
        "outputId": "e2aa5172-b1e1-4bfc-bbed-294a8a57d9ce"
      },
      "source": [
        "x=numpy_array_from_list + 10\n",
        "print(x)"
      ],
      "execution_count": 14,
      "outputs": [
        {
          "output_type": "stream",
          "text": [
            "[11 19 18 13]\n"
          ],
          "name": "stdout"
        }
      ]
    },
    {
      "cell_type": "code",
      "metadata": {
        "colab": {
          "base_uri": "https://localhost:8080/"
        },
        "id": "BiL-4de2T1Ap",
        "outputId": "21c0e202-ac0e-41a4-8ac9-192973643987"
      },
      "source": [
        "a  = np.array([1,2,3]) #Shape of Array You can check the shape of the array with the object shape preceded by the name of the array. In the same way, you can check the type with dtypes.\n",
        "print(a.shape)\n",
        "print(a.dtype)"
      ],
      "execution_count": 15,
      "outputs": [
        {
          "output_type": "stream",
          "text": [
            "(3,)\n",
            "int64\n"
          ],
          "name": "stdout"
        }
      ]
    },
    {
      "cell_type": "code",
      "metadata": {
        "colab": {
          "base_uri": "https://localhost:8080/"
        },
        "id": "Sa-GlDIJUHg8",
        "outputId": "c0c9d669-5f3a-4bfc-e853-bf430e6fa1ec"
      },
      "source": [
        "#### Different type\n",
        "b  = np.array([1.1,2.0,3.2])\n",
        "print(b.dtype)"
      ],
      "execution_count": 16,
      "outputs": [
        {
          "output_type": "stream",
          "text": [
            "float64\n"
          ],
          "name": "stdout"
        }
      ]
    },
    {
      "cell_type": "code",
      "metadata": {
        "colab": {
          "base_uri": "https://localhost:8080/"
        },
        "id": "eYiz5gL_UJLS",
        "outputId": "0cfd8be1-e059-42e1-c86f-0fb759f4d8f0"
      },
      "source": [
        "### 2 dimension\n",
        "c = np.array([(1,2,3),\n",
        "              (4,5,6)])\n",
        "print(c)"
      ],
      "execution_count": 17,
      "outputs": [
        {
          "output_type": "stream",
          "text": [
            "[[1 2 3]\n",
            " [4 5 6]]\n"
          ],
          "name": "stdout"
        }
      ]
    },
    {
      "cell_type": "code",
      "metadata": {
        "colab": {
          "base_uri": "https://localhost:8080/"
        },
        "id": "kAOp7zlvURL1",
        "outputId": "05526f37-ddc1-45a3-bd01-ec3f52ae0248"
      },
      "source": [
        "### 3 dimension\n",
        "d = np.array([\n",
        "    [[1, 2,3],\n",
        "        [4, 5, 6]],\n",
        "    [[7, 8,9],\n",
        "        [10, 11, 12]]\n",
        "])\n",
        "print(d.shape)\n",
        "(2, 2, 3)"
      ],
      "execution_count": 18,
      "outputs": [
        {
          "output_type": "stream",
          "text": [
            "(2, 2, 3)\n"
          ],
          "name": "stdout"
        },
        {
          "output_type": "execute_result",
          "data": {
            "text/plain": [
              "(2, 2, 3)"
            ]
          },
          "metadata": {
            "tags": []
          },
          "execution_count": 18
        }
      ]
    },
    {
      "cell_type": "markdown",
      "metadata": {
        "id": "AjgIKtQIUYVr"
      },
      "source": [
        "What is numpy.zeros()? numpy.zeros() or np.zeros Python function is used to create a matrix full of zeroes. numpy.zeros() in Python can be used when you initialize the weights during the first iteration in TensorFlow and other statistic tasks.\n",
        "\n",
        "numpy.zeros(shape, dtype=float, order='C') Here,\n",
        "\n",
        "Shape: is the shape of the numpy zero array Dtype: is the datatype in numpy zeros. It is optional. The default value is float64 Order: Default is C which is an essential row style for numpy.zeros() in Python.\n"
      ]
    },
    {
      "cell_type": "code",
      "metadata": {
        "colab": {
          "base_uri": "https://localhost:8080/"
        },
        "id": "Ol_f-QuGUuWB",
        "outputId": "c941158a-fb46-4a44-fa5f-f89c595d16ce"
      },
      "source": [
        "import numpy as np\n",
        "x=np.zeros((2,2), dtype=np.int16)\n",
        "print(x)"
      ],
      "execution_count": 19,
      "outputs": [
        {
          "output_type": "stream",
          "text": [
            "[[0 0]\n",
            " [0 0]]\n"
          ],
          "name": "stdout"
        }
      ]
    },
    {
      "cell_type": "code",
      "metadata": {
        "colab": {
          "base_uri": "https://localhost:8080/"
        },
        "id": "abVpNDAoUzZW",
        "outputId": "7ef72152-560c-46b0-937f-ef8263362935"
      },
      "source": [
        "import numpy as np\n",
        "np.ones((1,2,3), dtype=np.int16)\t"
      ],
      "execution_count": 20,
      "outputs": [
        {
          "output_type": "execute_result",
          "data": {
            "text/plain": [
              "array([[[1, 1, 1],\n",
              "        [1, 1, 1]]], dtype=int16)"
            ]
          },
          "metadata": {
            "tags": []
          },
          "execution_count": 20
        }
      ]
    },
    {
      "cell_type": "markdown",
      "metadata": {
        "id": "ju_RScIpU72v"
      },
      "source": [
        "Reshape Data In some occasions, you need to reshape the data from wide to long. You can use the reshape function for this. The syntax is\n",
        "\n",
        "numpy.reshape(a, newShape, order='C') Here,\n",
        "\n",
        "a: Array that you want to reshape\n",
        "\n",
        "newShape: The new desires shape\n",
        "\n",
        "Order: Default is C which is an essential row style.\n"
      ]
    },
    {
      "cell_type": "code",
      "metadata": {
        "colab": {
          "base_uri": "https://localhost:8080/"
        },
        "id": "kd1f5y-UVAJT",
        "outputId": "5dc9549c-db18-41a2-878c-f796c9bb5868"
      },
      "source": [
        "import numpy as np\n",
        "e  = np.array([(1,2,3), (4,5,6)])\n",
        "print(e)\n",
        "e.reshape(3,2)"
      ],
      "execution_count": 21,
      "outputs": [
        {
          "output_type": "stream",
          "text": [
            "[[1 2 3]\n",
            " [4 5 6]]\n"
          ],
          "name": "stdout"
        },
        {
          "output_type": "execute_result",
          "data": {
            "text/plain": [
              "array([[1, 2],\n",
              "       [3, 4],\n",
              "       [5, 6]])"
            ]
          },
          "metadata": {
            "tags": []
          },
          "execution_count": 21
        }
      ]
    },
    {
      "cell_type": "markdown",
      "metadata": {
        "id": "4LbBBURZVHaC"
      },
      "source": [
        "Flatten Data When you deal with some neural network like convnet, you need to flatten the array. You can use flatten(). The syntax is\n",
        "\n",
        "numpy.flatten(order='C') Here,\n",
        "\n",
        "Order: Default is C which is an essential row style.\n"
      ]
    },
    {
      "cell_type": "code",
      "metadata": {
        "colab": {
          "base_uri": "https://localhost:8080/"
        },
        "id": "BU5mBfgSVLqT",
        "outputId": "0b9c354c-0904-48f9-e134-527049dbe522"
      },
      "source": [
        "e.flatten()"
      ],
      "execution_count": 22,
      "outputs": [
        {
          "output_type": "execute_result",
          "data": {
            "text/plain": [
              "array([1, 2, 3, 4, 5, 6])"
            ]
          },
          "metadata": {
            "tags": []
          },
          "execution_count": 22
        }
      ]
    },
    {
      "cell_type": "markdown",
      "metadata": {
        "id": "6PJhLREJVS8h"
      },
      "source": [
        "What is hstack? With hstack you can appened data horizontally. This is a very convenient function in Numpy"
      ]
    },
    {
      "cell_type": "code",
      "metadata": {
        "colab": {
          "base_uri": "https://localhost:8080/"
        },
        "id": "NWJXDtoLVXhB",
        "outputId": "0803e2e1-31d9-4478-f43b-89de120fbe71"
      },
      "source": [
        "## Horitzontal Stack\n",
        "import numpy as np\n",
        "f = np.array([1,2,3])\n",
        "g = np.array([4,5,6])\n",
        "\n",
        "print('Horizontal Append:', np.hstack((f, g)))"
      ],
      "execution_count": 23,
      "outputs": [
        {
          "output_type": "stream",
          "text": [
            "Horizontal Append: [1 2 3 4 5 6]\n"
          ],
          "name": "stdout"
        }
      ]
    },
    {
      "cell_type": "markdown",
      "metadata": {
        "id": "5jsjguL6VeyS"
      },
      "source": [
        "What is vstack? With vstack you can appened data vertically. Lets study it with an example:"
      ]
    },
    {
      "cell_type": "code",
      "metadata": {
        "colab": {
          "base_uri": "https://localhost:8080/"
        },
        "id": "w7wN47fAVh4g",
        "outputId": "52bbb3e9-b052-4592-b3c5-b2e7c9f3240c"
      },
      "source": [
        "## Vertical Stack\n",
        "import numpy as np\n",
        "f = np.array([1,2,3])\n",
        "g = np.array([4,5,6])\n",
        "\n",
        "print('Vertical Append:', np.vstack((f, g)))"
      ],
      "execution_count": 24,
      "outputs": [
        {
          "output_type": "stream",
          "text": [
            "Vertical Append: [[1 2 3]\n",
            " [4 5 6]]\n"
          ],
          "name": "stdout"
        }
      ]
    },
    {
      "cell_type": "markdown",
      "metadata": {
        "id": "-lsNcgHUVp4_"
      },
      "source": [
        "Generate Random Numbers To generate random numbers for Gaussian distribution use\n",
        "\n",
        "numpy.random.normal(loc, scale, size)\n",
        "\n",
        "Here\n",
        "\n",
        "Loc: the mean. The center of distribution scale: standard deviation. Size: number of returns\n"
      ]
    },
    {
      "cell_type": "code",
      "metadata": {
        "colab": {
          "base_uri": "https://localhost:8080/"
        },
        "id": "S60b88RbVtdw",
        "outputId": "e235d4c8-da8f-477e-ff29-9dde564ccbeb"
      },
      "source": [
        "## Generate random nmber from normal distribution\n",
        "normal_array = np.random.normal(5, 0.5, 10)\n",
        "print(normal_array)\t\t\t\n"
      ],
      "execution_count": 25,
      "outputs": [
        {
          "output_type": "stream",
          "text": [
            "[4.28057179 5.00457427 5.3691324  5.03929744 4.79729006 5.35020736\n",
            " 5.30917416 4.03788567 3.82538015 5.37054331]\n"
          ],
          "name": "stdout"
        }
      ]
    },
    {
      "cell_type": "markdown",
      "metadata": {
        "id": "AjkCiH0fVzob"
      },
      "source": [
        ""
      ]
    },
    {
      "cell_type": "markdown",
      "metadata": {
        "id": "drk5GXo2VzrX"
      },
      "source": [
        "Asarray The asarray()function is used when you want to convert an input to an array. The input could be a lists, tuple, ndarray, etc.\n",
        "\n",
        "Syntax:\n",
        "\n",
        "numpy.asarray(data, dtype=None, order=None)[source] Here,\n",
        "\n",
        "data: Data that you want to convert to an array\n",
        "\n",
        "dtype: This is an optional argument. If not specified, the data type is inferred from the input data\n",
        "\n",
        "Order: Default is C which is an essential row style. Other option is F (Fortan-style)\n"
      ]
    },
    {
      "cell_type": "code",
      "metadata": {
        "colab": {
          "base_uri": "https://localhost:8080/"
        },
        "id": "8JRbibBiV3ZA",
        "outputId": "d6f08123-02d1-49b0-e984-53b293e65755"
      },
      "source": [
        "A = np.matrix(np.ones((4,4)))\t\t\n",
        "np.array(A)[2]=2  #immutable\n",
        "print(A)"
      ],
      "execution_count": 26,
      "outputs": [
        {
          "output_type": "stream",
          "text": [
            "[[1. 1. 1. 1.]\n",
            " [1. 1. 1. 1.]\n",
            " [1. 1. 1. 1.]\n",
            " [1. 1. 1. 1.]]\n"
          ],
          "name": "stdout"
        }
      ]
    },
    {
      "cell_type": "code",
      "metadata": {
        "colab": {
          "base_uri": "https://localhost:8080/"
        },
        "id": "P9-SS1yFV9fJ",
        "outputId": "64fbbd60-3f92-449f-ca3c-62634b76713a"
      },
      "source": [
        "np.asarray(A)[2]=2\n",
        "print(A)"
      ],
      "execution_count": 27,
      "outputs": [
        {
          "output_type": "stream",
          "text": [
            "[[1. 1. 1. 1.]\n",
            " [1. 1. 1. 1.]\n",
            " [2. 2. 2. 2.]\n",
            " [1. 1. 1. 1.]]\n"
          ],
          "name": "stdout"
        }
      ]
    },
    {
      "cell_type": "markdown",
      "metadata": {
        "id": "y37QipofWBOb"
      },
      "source": [
        "What is numpy.arange()? numpy.arange() is an inbuilt numpy function that returns an ndarray object containing evenly spaced values within a defined interval. For instance, you want to create values from 1 to 10; you can use numpy.arange() function.\n",
        "\n",
        "Syntax:\n",
        "\n",
        "numpy.arange(start, stop,step) Start: Start of interval Stop: End of interval Step: Spacing between values. Default step is 1\n"
      ]
    },
    {
      "cell_type": "code",
      "metadata": {
        "colab": {
          "base_uri": "https://localhost:8080/"
        },
        "id": "V9Vo_Pg3WGOp",
        "outputId": "480a4021-4382-47b1-a294-7f306e5ae26f"
      },
      "source": [
        "np.arange(1, 11)\t"
      ],
      "execution_count": 28,
      "outputs": [
        {
          "output_type": "execute_result",
          "data": {
            "text/plain": [
              "array([ 1,  2,  3,  4,  5,  6,  7,  8,  9, 10])"
            ]
          },
          "metadata": {
            "tags": []
          },
          "execution_count": 28
        }
      ]
    },
    {
      "cell_type": "code",
      "metadata": {
        "colab": {
          "base_uri": "https://localhost:8080/"
        },
        "id": "eMZbjVv_WNLX",
        "outputId": "b816479f-3b48-435d-9173-21a55ab967bb"
      },
      "source": [
        "np.arange(1, 14, 4)\t"
      ],
      "execution_count": 29,
      "outputs": [
        {
          "output_type": "execute_result",
          "data": {
            "text/plain": [
              "array([ 1,  5,  9, 13])"
            ]
          },
          "metadata": {
            "tags": []
          },
          "execution_count": 29
        }
      ]
    },
    {
      "cell_type": "markdown",
      "metadata": {
        "id": "tMnB3iGlWUpu"
      },
      "source": [
        "Linspace Linspace gives evenly spaced samples.\n",
        "\n",
        "Syntax:\n",
        "\n",
        "numpy.linspace(start, stop, num, endpoint) Here,\n",
        "\n",
        "Start: Starting value of the sequence Stop: End value of the sequence Num: Number of samples to generate. Default is 50 Endpoint: If True (default), stop is the last value. If False, stop value is not included.\n"
      ]
    },
    {
      "cell_type": "code",
      "metadata": {
        "colab": {
          "base_uri": "https://localhost:8080/"
        },
        "id": "gm_lPFZ_WYmn",
        "outputId": "db9c780d-0b72-46ed-cc35-6c0c56dbb8f0"
      },
      "source": [
        "import numpy as np\n",
        "np.linspace(1.0, 10.0, num=20)"
      ],
      "execution_count": 30,
      "outputs": [
        {
          "output_type": "execute_result",
          "data": {
            "text/plain": [
              "array([ 1.        ,  1.47368421,  1.94736842,  2.42105263,  2.89473684,\n",
              "        3.36842105,  3.84210526,  4.31578947,  4.78947368,  5.26315789,\n",
              "        5.73684211,  6.21052632,  6.68421053,  7.15789474,  7.63157895,\n",
              "        8.10526316,  8.57894737,  9.05263158,  9.52631579, 10.        ])"
            ]
          },
          "metadata": {
            "tags": []
          },
          "execution_count": 30
        }
      ]
    },
    {
      "cell_type": "code",
      "metadata": {
        "colab": {
          "base_uri": "https://localhost:8080/"
        },
        "id": "gdibREFZWepz",
        "outputId": "0e3feec2-6ba7-4ce3-9270-1d469549c618"
      },
      "source": [
        "np.linspace(1.0, 5.0, num=5, endpoint=False)"
      ],
      "execution_count": 31,
      "outputs": [
        {
          "output_type": "execute_result",
          "data": {
            "text/plain": [
              "array([1. , 1.8, 2.6, 3.4, 4.2])"
            ]
          },
          "metadata": {
            "tags": []
          },
          "execution_count": 31
        }
      ]
    },
    {
      "cell_type": "markdown",
      "metadata": {
        "id": "FO3v721MWkaE"
      },
      "source": [
        "LogSpace LogSpace returns even spaced numbers on a log scale. Logspace has the same parameters as np.linspace.\n",
        "\n",
        "Syntax:\n",
        "\n",
        "numpy.logspace(start, stop, num, endpoint)\n"
      ]
    },
    {
      "cell_type": "code",
      "metadata": {
        "colab": {
          "base_uri": "https://localhost:8080/"
        },
        "id": "uwoVe13wWnT6",
        "outputId": "c9f73c75-58e0-443a-d06f-794844222c38"
      },
      "source": [
        "np.logspace(3.0, 4.0, num=4)"
      ],
      "execution_count": 32,
      "outputs": [
        {
          "output_type": "execute_result",
          "data": {
            "text/plain": [
              "array([ 1000.        ,  2154.43469003,  4641.58883361, 10000.        ])"
            ]
          },
          "metadata": {
            "tags": []
          },
          "execution_count": 32
        }
      ]
    },
    {
      "cell_type": "code",
      "metadata": {
        "colab": {
          "base_uri": "https://localhost:8080/"
        },
        "id": "7-_YADk6Wrbl",
        "outputId": "a4cde7be-b678-4fcf-971a-e88843331839"
      },
      "source": [
        "x = np.array([1,2,3], dtype=np.complex128)\n",
        "x.itemsize"
      ],
      "execution_count": 33,
      "outputs": [
        {
          "output_type": "execute_result",
          "data": {
            "text/plain": [
              "16"
            ]
          },
          "metadata": {
            "tags": []
          },
          "execution_count": 33
        }
      ]
    },
    {
      "cell_type": "markdown",
      "metadata": {
        "id": "v7YJXgJZWwgS"
      },
      "source": [
        "Indexing and slicing Slicing data is trivial with numpy. We will slice the matrice \"e\". Note that, in Python, you need to use the brackets to return the rows or columns"
      ]
    },
    {
      "cell_type": "code",
      "metadata": {
        "colab": {
          "base_uri": "https://localhost:8080/"
        },
        "id": "7PL1aCW0W1IH",
        "outputId": "74b7fa0e-3f09-4c69-ecd2-6a363e09d12c"
      },
      "source": [
        "## Slice\n",
        "import numpy as np\n",
        "e  = np.array([(1,2,3), (4,5,6)])\n",
        "print(e)"
      ],
      "execution_count": 34,
      "outputs": [
        {
          "output_type": "stream",
          "text": [
            "[[1 2 3]\n",
            " [4 5 6]]\n"
          ],
          "name": "stdout"
        }
      ]
    },
    {
      "cell_type": "code",
      "metadata": {
        "colab": {
          "base_uri": "https://localhost:8080/"
        },
        "id": "f1_zqZT2W4tl",
        "outputId": "781b9482-5c96-4f64-f84b-c07e90128edf"
      },
      "source": [
        "## First column\n",
        "print('First row:', e[0])\n",
        "\n",
        "## Second col\n",
        "print('Second row:', e[1])"
      ],
      "execution_count": 35,
      "outputs": [
        {
          "output_type": "stream",
          "text": [
            "First row: [1 2 3]\n",
            "Second row: [4 5 6]\n"
          ],
          "name": "stdout"
        }
      ]
    },
    {
      "cell_type": "code",
      "metadata": {
        "colab": {
          "base_uri": "https://localhost:8080/"
        },
        "id": "fMa2whDLW8db",
        "outputId": "e191cd38-cfc1-4aee-f680-71514b5e9bb4"
      },
      "source": [
        "print('Second column:', e[:,1])\t"
      ],
      "execution_count": 36,
      "outputs": [
        {
          "output_type": "stream",
          "text": [
            "Second column: [2 5]\n"
          ],
          "name": "stdout"
        }
      ]
    },
    {
      "cell_type": "code",
      "metadata": {
        "colab": {
          "base_uri": "https://localhost:8080/"
        },
        "id": "Ri7k8Nt_XATZ",
        "outputId": "e638564c-efee-4e94-99d5-ba2c633d2d76"
      },
      "source": [
        "## Second Row, two values\n",
        "print(e[1, :2])"
      ],
      "execution_count": 37,
      "outputs": [
        {
          "output_type": "stream",
          "text": [
            "[4 5]\n"
          ],
          "name": "stdout"
        }
      ]
    },
    {
      "cell_type": "markdown",
      "metadata": {
        "id": "zf7bPsfNXMKE"
      },
      "source": [
        "NumPy has quite a few useful statistical functions for finding minimum, maximum, percentile standard deviation and variance, etc from the given elements in the array. The functions are explained as follows −\n",
        "\n",
        "Statistical function Numpy is equipped with the robust statistical function as listed below\n",
        "\n",
        "Function Numpy Min np.min() Max np.max() Mean np.mean() Median np.median() Standard deviation np.std()\n"
      ]
    },
    {
      "cell_type": "code",
      "metadata": {
        "colab": {
          "base_uri": "https://localhost:8080/"
        },
        "id": "10h-mD-MXPp1",
        "outputId": "4d929c3b-ad2f-464a-a07b-0b0e514ef6fa"
      },
      "source": [
        "import numpy as np\n",
        "normal_array = np.random.normal(5, 0.5, 10)\n",
        "print(normal_array)\t"
      ],
      "execution_count": 38,
      "outputs": [
        {
          "output_type": "stream",
          "text": [
            "[5.5769935  4.48782968 5.43044622 4.84010335 5.15166833 4.32403392\n",
            " 4.2888563  4.28662745 4.80148435 4.93752975]\n"
          ],
          "name": "stdout"
        }
      ]
    },
    {
      "cell_type": "code",
      "metadata": {
        "colab": {
          "base_uri": "https://localhost:8080/"
        },
        "id": "8vQ2MFq5Xl7B",
        "outputId": "afd92bb9-fd1c-4394-c8b4-7d71d5122776"
      },
      "source": [
        "### Min \n",
        "print(np.min(normal_array))\n",
        "\n",
        "### Max \n",
        "print(np.max(normal_array))\n",
        "\n",
        "### Mean \n",
        "print(np.mean(normal_array))\n",
        "\n",
        "### Median\n",
        "print(np.median(normal_array))\n",
        "\n",
        "### Sd\n",
        "print(np.std(normal_array))"
      ],
      "execution_count": 39,
      "outputs": [
        {
          "output_type": "stream",
          "text": [
            "4.286627449382114\n",
            "5.576993496339387\n",
            "4.812557283874021\n",
            "4.820793850214133\n",
            "0.44638697203002287\n"
          ],
          "name": "stdout"
        }
      ]
    },
    {
      "cell_type": "markdown",
      "metadata": {
        "id": "j1ySL7fDXtiI"
      },
      "source": [
        "What is numpy dot product? Numpy.dot product is a powerful library for matrix computation. For instance, you can compute the dot product with np.dot. Numpy.dot product is the dot product of a and b. numpy.dot() in Python handles the 2D arrays and perform matrix multiplications.\n",
        "\n",
        "Syntax\n",
        "\n",
        "numpy.dot(x, y, out=None) Parameters\n",
        "\n",
        "Here,\n",
        "\n",
        "x,y: Input arrays. x and y both should be 1-D or 2-D for the np.dot() function to work\n",
        "\n",
        "out: This is the output argument for 1-D array scalar to be returned. Otherwise ndarray should be returned.\n",
        "\n",
        "Returns\n",
        "\n",
        "The function numpy.dot() in Python returns a Dot product of two arrays x and y. The dot() function returns a scalar if both x and y are 1-D; otherwise, it returns an array. If 'out' is given then it is returned.\n",
        "\n",
        "Raises\n",
        "\n",
        "Dot product in Python raises a ValueError exception if the last dimension of x does not have the same size as the second last dimension of y.\n"
      ]
    },
    {
      "cell_type": "code",
      "metadata": {
        "colab": {
          "base_uri": "https://localhost:8080/"
        },
        "id": "Bi84CiIMXyOj",
        "outputId": "8a80f6f5-d925-4a94-be62-84206a178609"
      },
      "source": [
        "## Linear algebra\n",
        "### Dot product: product of two arrays\n",
        "f = np.array([1,2])\n",
        "g = np.array([4,5])\n",
        "### 1*4+2*5\n",
        "np.dot(f, g)"
      ],
      "execution_count": 40,
      "outputs": [
        {
          "output_type": "execute_result",
          "data": {
            "text/plain": [
              "14"
            ]
          },
          "metadata": {
            "tags": []
          },
          "execution_count": 40
        }
      ]
    },
    {
      "cell_type": "markdown",
      "metadata": {
        "id": "Uj3DKF_yX6aH"
      },
      "source": [
        "Matrix Multiplication The Numpu matmul() function is used to return the matrix product of 2 arrays. Here is how it works\n",
        "\n",
        "1) 2-D arrays, it returns normal product\n",
        "\n",
        "2) Dimensions > 2, the product is treated as a stack of matrix\n",
        "\n",
        "3) 1-D array is first promoted to a matrix, and then the product is calculated\n",
        "\n",
        "numpy.matmul(x, y, out=None) Here,\n",
        "\n",
        "x,y: Input arrays. scalars not allowed\n"
      ]
    },
    {
      "cell_type": "code",
      "metadata": {
        "colab": {
          "base_uri": "https://localhost:8080/"
        },
        "id": "n1w7-6HmX93b",
        "outputId": "376d9c7c-904a-4bfb-c3b6-19abfefd998c"
      },
      "source": [
        "### Matmul: matruc product of two arrays\n",
        "h = [[1,2],[3,4]] \n",
        "i = [[5,6],[7,8]] \n",
        "### 1*5+2*7 = 19\n",
        "np.matmul(h, i)"
      ],
      "execution_count": 41,
      "outputs": [
        {
          "output_type": "execute_result",
          "data": {
            "text/plain": [
              "array([[19, 22],\n",
              "       [43, 50]])"
            ]
          },
          "metadata": {
            "tags": []
          },
          "execution_count": 41
        }
      ]
    },
    {
      "cell_type": "markdown",
      "metadata": {
        "id": "52_5aRV5YBpZ"
      },
      "source": [
        "How to inverse a matrix using NumPy"
      ]
    },
    {
      "cell_type": "code",
      "metadata": {
        "colab": {
          "base_uri": "https://localhost:8080/"
        },
        "id": "FuNNDmIWYCn8",
        "outputId": "a414025d-e1bb-41ef-bc02-2d868dcac730"
      },
      "source": [
        "# Taking a 3 * 3 matrix\n",
        "A = np.array([[6, 1, 1],\n",
        "              [4, -2, 5],\n",
        "              [2, 8, 7]])\n",
        "  \n",
        "# Calculating the inverse of the matrix\n",
        "print(np.linalg.inv(A))"
      ],
      "execution_count": 42,
      "outputs": [
        {
          "output_type": "stream",
          "text": [
            "[[ 0.17647059 -0.00326797 -0.02287582]\n",
            " [ 0.05882353 -0.13071895  0.08496732]\n",
            " [-0.11764706  0.1503268   0.05228758]]\n"
          ],
          "name": "stdout"
        }
      ]
    },
    {
      "cell_type": "markdown",
      "metadata": {
        "id": "FeMaCvtLYI8v"
      },
      "source": [
        "How to Calculate the determinant of a matrix using NumPy?"
      ]
    },
    {
      "cell_type": "code",
      "metadata": {
        "colab": {
          "base_uri": "https://localhost:8080/"
        },
        "id": "XoJ5ytJkYKvn",
        "outputId": "8e77b98d-cee3-491c-b358-c6dbdfd40db7"
      },
      "source": [
        "# creating a 2X2 Numpy matrix\n",
        "n_array = np.array([[50, 29], [30, 44]])\n",
        "  \n",
        "# Displaying the Matrix\n",
        "print(\"Numpy Matrix is:\")\n",
        "print(n_array)\n",
        "  \n",
        "# calculating the determinant of matrix\n",
        "det = np.linalg.det(n_array)\n",
        "  \n",
        "print(\"\\nDeterminant of given 2X2 matrix:\")\n",
        "print(int(det))"
      ],
      "execution_count": 43,
      "outputs": [
        {
          "output_type": "stream",
          "text": [
            "Numpy Matrix is:\n",
            "[[50 29]\n",
            " [30 44]]\n",
            "\n",
            "Determinant of given 2X2 matrix:\n",
            "1330\n"
          ],
          "name": "stdout"
        }
      ]
    },
    {
      "cell_type": "markdown",
      "metadata": {
        "id": "mLByfgu2Yo3d"
      },
      "source": [
        "Rank of a Matrix"
      ]
    },
    {
      "cell_type": "code",
      "metadata": {
        "colab": {
          "base_uri": "https://localhost:8080/"
        },
        "id": "I1gW8H9iYsMA",
        "outputId": "dffd6f7b-afd6-413b-c766-b84ecb6a3180"
      },
      "source": [
        "# Let's create a square matrix (NxN matrix)\n",
        "mx = np.array([[1,1,1],[0,1,2],[1,5,3]])\n",
        "\n",
        "# Let's get rank of matrix \n",
        "np.linalg.matrix_rank(mx)"
      ],
      "execution_count": 45,
      "outputs": [
        {
          "output_type": "execute_result",
          "data": {
            "text/plain": [
              "3"
            ]
          },
          "metadata": {
            "tags": []
          },
          "execution_count": 45
        }
      ]
    },
    {
      "cell_type": "markdown",
      "metadata": {
        "id": "dgr5-kYLYx7V"
      },
      "source": [
        "How To Calculate Eigenvectors And Eigenvalues With Numpy"
      ]
    },
    {
      "cell_type": "code",
      "metadata": {
        "colab": {
          "base_uri": "https://localhost:8080/"
        },
        "id": "OGPz2oQCY3hI",
        "outputId": "c345f9fe-f580-4b54-ad8b-f61dd21e7533"
      },
      "source": [
        "example_matrix = np.array([\n",
        "  [1,2,3,4],\n",
        "  [5,6,7,8],\n",
        "  [9,10,11,12],\n",
        "  [13,14,15,16]\n",
        "])\n",
        "eigenvalues, eigenvectors = np.linalg.eig(example_matrix)\n",
        "print(eigenvalues, eigenvectors)"
      ],
      "execution_count": 46,
      "outputs": [
        {
          "output_type": "stream",
          "text": [
            "[ 3.62093727e+01 -2.20937271e+00 -5.14138333e-16 -2.08943529e-15] [[-0.15115432 -0.72704996  0.01790738 -0.26832672]\n",
            " [-0.34923733 -0.28320876  0.38415354  0.71367217]\n",
            " [-0.54732033  0.16063243 -0.82202921 -0.62236419]\n",
            " [-0.74540333  0.60447363  0.41996829  0.17701873]]\n"
          ],
          "name": "stdout"
        }
      ]
    },
    {
      "cell_type": "markdown",
      "metadata": {
        "id": "DUqSkrs6Y78F"
      },
      "source": [
        "Get diagonal of a matrix"
      ]
    },
    {
      "cell_type": "code",
      "metadata": {
        "colab": {
          "base_uri": "https://localhost:8080/"
        },
        "id": "x2OYzY_-Y_Ph",
        "outputId": "94fcdbea-8b9b-4c09-c47e-c4be4095d92d"
      },
      "source": [
        "# make matrix with numpy\n",
        "gfg = np.matrix('[6, 2; 3, 4]')\n",
        "         \n",
        "# applying matrix.diagonal() method\n",
        "diag = gfg.diagonal()\n",
        "   \n",
        "print(diag)"
      ],
      "execution_count": 47,
      "outputs": [
        {
          "output_type": "stream",
          "text": [
            "[[6 4]]\n"
          ],
          "name": "stdout"
        }
      ]
    },
    {
      "cell_type": "markdown",
      "metadata": {
        "id": "Tw0IKk89ZDp1"
      },
      "source": [
        "Matrix transpose"
      ]
    },
    {
      "cell_type": "code",
      "metadata": {
        "colab": {
          "base_uri": "https://localhost:8080/"
        },
        "id": "xlk3awXKZGWa",
        "outputId": "dae5ed38-3fee-48dd-efdd-62f6280b8af3"
      },
      "source": [
        "# make matrix with numpy\n",
        "gfg = np.matrix('[4, 1; 12, 3]')\n",
        "              \n",
        "# applying matrix.transpose() method\n",
        "trans = gfg.transpose()\n",
        "    \n",
        "print(trans)"
      ],
      "execution_count": 48,
      "outputs": [
        {
          "output_type": "stream",
          "text": [
            "[[ 4 12]\n",
            " [ 1  3]]\n"
          ],
          "name": "stdout"
        }
      ]
    },
    {
      "cell_type": "markdown",
      "metadata": {
        "id": "dRCkL0JPZKJO"
      },
      "source": [
        "Trace of a matrix"
      ]
    },
    {
      "cell_type": "code",
      "metadata": {
        "colab": {
          "base_uri": "https://localhost:8080/"
        },
        "id": "2jm8sz0mZNEV",
        "outputId": "db58d232-d629-4378-e143-132d457b3ff7"
      },
      "source": [
        "# make matrix with numpy\n",
        "gfg = np.matrix('[4, 1; 12, 3]')\n",
        "              \n",
        "# applying matrix.trace() method\n",
        "tracem = gfg.trace()\n",
        "    \n",
        "print(tracem)"
      ],
      "execution_count": 49,
      "outputs": [
        {
          "output_type": "stream",
          "text": [
            "[[7]]\n"
          ],
          "name": "stdout"
        }
      ]
    }
  ]
}